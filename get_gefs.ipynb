{
 "cells": [
  {
   "cell_type": "code",
   "execution_count": 1,
   "id": "c6dd6ec0",
   "metadata": {},
   "outputs": [],
   "source": [
    "from herbie import FastHerbie\n",
    "import numpy as np\n",
    "import pandas as pd\n",
    "import xarray as xr\n",
    "import time\n",
    "import cartopy.crs as ccrs\n",
    "import matplotlib.pyplot as plt\n",
    "from toolbox import EasyMap, pc"
   ]
  },
  {
   "cell_type": "code",
   "execution_count": 2,
   "id": "fc7c87f8",
   "metadata": {},
   "outputs": [
    {
     "name": "stdout",
     "output_type": "stream",
     "text": [
      "finished FastHerbie in 1.4010 seconds. Now putting into xarray...\n"
     ]
    }
   ],
   "source": [
    "# set search params\n",
    "period = pd.date_range(\n",
    "    start=\"2013-01-01\",\n",
    "    end=\"2013-01-01\")\n",
    "\n",
    "# Herbie : quick\n",
    "tic = time.perf_counter()\n",
    "H = FastHerbie(period, model=\"gefs_reforecast\",fxx=[100,270], member=0, variable_level=\"hgt_pres_abv700mb\")\n",
    "toc = time.perf_counter()\n",
    "print(f\"finished FastHerbie in {toc - tic:0.4f} seconds. Now putting into xarray...\")"
   ]
  },
  {
   "cell_type": "code",
   "execution_count": 3,
   "id": "e697f067",
   "metadata": {},
   "outputs": [
    {
     "name": "stdout",
     "output_type": "stream",
     "text": [
      "finished xarray in 1.2555 minutes. Now clipping and saving...\n"
     ]
    }
   ],
   "source": [
    "# xarray: takes ~15 minutes per month, look into cutting more?\n",
    "ds = H.xarray(\":500 mb:\")\n",
    "toc2 = time.perf_counter()\n",
    "print(f\"finished xarray in {(toc2 - toc)/60:0.4f} minutes. Now clipping and saving...\")\n"
   ]
  },
  {
   "cell_type": "code",
   "execution_count": 4,
   "id": "2c91eea5",
   "metadata": {},
   "outputs": [],
   "source": [
    "steps = np.arange(168,360,12,dtype='timedelta64[ns]')*(1000000000*60*60)\n",
    "lats = np.arange(45,65.5,0.5)[::-1]\n",
    "lons = np.arange(230,250.5,0.5)\n",
    "ds = ds.sel(latitude=lats,longitude=lons,step=steps)"
   ]
  },
  {
   "cell_type": "code",
   "execution_count": 5,
   "id": "aea0258d",
   "metadata": {},
   "outputs": [],
   "source": [
    "ds = ds.gh.isel(step=1)"
   ]
  },
  {
   "cell_type": "code",
   "execution_count": 6,
   "id": "045ceda7",
   "metadata": {},
   "outputs": [
    {
     "ename": "AttributeError",
     "evalue": "'DataArray' object has no attribute 'herbie'",
     "output_type": "error",
     "traceback": [
      "\u001b[1;31m---------------------------------------------------------------------------\u001b[0m",
      "\u001b[1;31mAttributeError\u001b[0m                            Traceback (most recent call last)",
      "Cell \u001b[1;32mIn[6], line 1\u001b[0m\n\u001b[1;32m----> 1\u001b[0m ax \u001b[39m=\u001b[39m EasyMap(\u001b[39m\"\u001b[39m\u001b[39m50m\u001b[39m\u001b[39m\"\u001b[39m,crs\u001b[39m=\u001b[39mds\u001b[39m.\u001b[39mherbie\u001b[39m.\u001b[39mcrs,figsize\u001b[39m=\u001b[39m[\u001b[39m10\u001b[39m,\u001b[39m6\u001b[39m])\u001b[39m.\u001b[39mSTATES()\u001b[39m.\u001b[39mBORDERS()\u001b[39m.\u001b[39max\n\u001b[0;32m      2\u001b[0m p \u001b[39m=\u001b[39m ax\u001b[39m.\u001b[39mpcolormesh(\n\u001b[0;32m      3\u001b[0m     ds\u001b[39m.\u001b[39mlongitude, ds\u001b[39m.\u001b[39mlatitude, ds\u001b[39m.\u001b[39mgh, transform\u001b[39m=\u001b[39mpc, cmap\u001b[39m=\u001b[39m\u001b[39m\"\u001b[39m\u001b[39mGreens\u001b[39m\u001b[39m\"\u001b[39m\n\u001b[0;32m      4\u001b[0m )\n\u001b[0;32m      5\u001b[0m plt\u001b[39m.\u001b[39mcolorbar(\n\u001b[0;32m      6\u001b[0m     p,\n\u001b[0;32m      7\u001b[0m     ax\u001b[39m=\u001b[39max,\n\u001b[1;32m   (...)\u001b[0m\n\u001b[0;32m     11\u001b[0m     label\u001b[39m=\u001b[39m\u001b[39mf\u001b[39m\u001b[39m\"\u001b[39m\u001b[39m{\u001b[39;00mds\u001b[39m.\u001b[39mgh\u001b[39m.\u001b[39mGRIB_name\u001b[39m}\u001b[39;00m\u001b[39m(\u001b[39m\u001b[39m{\u001b[39;00mds\u001b[39m.\u001b[39mgh\u001b[39m.\u001b[39mGRIB_units\u001b[39m}\u001b[39;00m\u001b[39m)\u001b[39m\u001b[39m\"\u001b[39m,\n\u001b[0;32m     12\u001b[0m )\n",
      "File \u001b[1;32mc:\\Users\\jillp\\anaconda3\\envs\\thesis\\Lib\\site-packages\\xarray\\core\\common.py:278\u001b[0m, in \u001b[0;36mAttrAccessMixin.__getattr__\u001b[1;34m(self, name)\u001b[0m\n\u001b[0;32m    276\u001b[0m         \u001b[39mwith\u001b[39;00m suppress(\u001b[39mKeyError\u001b[39;00m):\n\u001b[0;32m    277\u001b[0m             \u001b[39mreturn\u001b[39;00m source[name]\n\u001b[1;32m--> 278\u001b[0m \u001b[39mraise\u001b[39;00m \u001b[39mAttributeError\u001b[39;00m(\n\u001b[0;32m    279\u001b[0m     \u001b[39mf\u001b[39m\u001b[39m\"\u001b[39m\u001b[39m{\u001b[39;00m\u001b[39mtype\u001b[39m(\u001b[39mself\u001b[39m)\u001b[39m.\u001b[39m\u001b[39m__name__\u001b[39m\u001b[39m!r}\u001b[39;00m\u001b[39m object has no attribute \u001b[39m\u001b[39m{\u001b[39;00mname\u001b[39m!r}\u001b[39;00m\u001b[39m\"\u001b[39m\n\u001b[0;32m    280\u001b[0m )\n",
      "\u001b[1;31mAttributeError\u001b[0m: 'DataArray' object has no attribute 'herbie'"
     ]
    }
   ],
   "source": [
    "ax = EasyMap(\"50m\",crs=ds.herbie.crs,figsize=[10,6]).STATES().BORDERS().ax\n",
    "p = ax.pcolormesh(\n",
    "    ds.longitude, ds.latitude, ds.gh, transform=pc, cmap=\"Greens\"\n",
    ")\n",
    "plt.colorbar(\n",
    "    p,\n",
    "    ax=ax,\n",
    "    orientation=\"horizontal\",\n",
    "    pad=0.01,\n",
    "    shrink=0.8,\n",
    "    label=f\"{ds.gh.GRIB_name}({ds.gh.GRIB_units})\",\n",
    ")\n",
    "\n",
    "# Add 500 hPa Geopotential height\n",
    "ax.contour(\n",
    "    ds.longitude,\n",
    "    ds.latitude,\n",
    "    ds.gh,\n",
    "    colors=\"k\",\n",
    "    linewidths=0.5,\n",
    "    levels=range(0, 10000, 120),\n",
    ")\n",
    "\n",
    "ax.set_title(\n",
    "    f\"{ds.model.upper()} Geopotential height\\nValid: {ds.valid_time.dt.strftime('%H:%M UTC %d %b %Y').item()}\",\n",
    "    loc=\"left\",\n",
    ")\n",
    "#ax.set_title(ds.gh.GRIB_name, loc=\"right\")"
   ]
  },
  {
   "cell_type": "code",
   "execution_count": null,
   "id": "cd94864d",
   "metadata": {},
   "outputs": [],
   "source": []
  }
 ],
 "metadata": {
  "kernelspec": {
   "display_name": "Python 3 (ipykernel)",
   "language": "python",
   "name": "python3"
  },
  "language_info": {
   "codemirror_mode": {
    "name": "ipython",
    "version": 3
   },
   "file_extension": ".py",
   "mimetype": "text/x-python",
   "name": "python",
   "nbconvert_exporter": "python",
   "pygments_lexer": "ipython3",
   "version": "3.11.4"
  }
 },
 "nbformat": 4,
 "nbformat_minor": 5
}
